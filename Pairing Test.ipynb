{
 "cells": [
  {
   "cell_type": "code",
   "execution_count": null,
   "metadata": {
    "collapsed": false,
    "deletable": true,
    "editable": true,
    "scrolled": false
   },
   "outputs": [],
   "source": [
    "import json\n",
    "import airtable\n",
    "import pandas as pd\n",
    "import time\n",
    "\n",
    "with open('settings.json') as settings_file:\n",
    "    settings = json.load(settings_file)\n",
    "\n",
    "at = airtable.AT(settings[\"airtable_base_key\"],settings[\"airtable_api_key\"])"
   ]
  },
  {
   "cell_type": "code",
   "execution_count": null,
   "metadata": {
    "collapsed": false,
    "deletable": true,
    "editable": true
   },
   "outputs": [],
   "source": [
    "table = at.getTable(\"Pairings\")\n",
    "table.head()"
   ]
  },
  {
   "cell_type": "code",
   "execution_count": null,
   "metadata": {
    "collapsed": false,
    "deletable": true,
    "editable": true
   },
   "outputs": [],
   "source": [
    "data = {\n",
    "    \"Teacher\": \"test\",\n",
    "    \"Learner\": \"test\",\n",
    "    \"Skill\": \"test\",\n",
    "    \"Paired On\": '2017-03-17'\n",
    "}\n",
    "at.pushToTable(\"Pairings\", data)"
   ]
  },
  {
   "cell_type": "code",
   "execution_count": null,
   "metadata": {
    "collapsed": false,
    "deletable": true,
    "editable": true
   },
   "outputs": [],
   "source": [
    "import pandas as pd"
   ]
  },
  {
   "cell_type": "code",
   "execution_count": null,
   "metadata": {
    "collapsed": false,
    "deletable": true,
    "editable": true
   },
   "outputs": [],
   "source": [
    "records = pd.DataFrame([table[\"records\"][j][\"fields\"] for j in range(len(table[\"records\"]))]).set_index(\"Slack Handle\")"
   ]
  },
  {
   "cell_type": "code",
   "execution_count": null,
   "metadata": {
    "collapsed": false,
    "deletable": true,
    "editable": true
   },
   "outputs": [],
   "source": [
    "records = records[[\"Interests\", \"Skills\"]]"
   ]
  },
  {
   "cell_type": "code",
   "execution_count": null,
   "metadata": {
    "collapsed": false,
    "deletable": true,
    "editable": true
   },
   "outputs": [],
   "source": [
    "records.head()"
   ]
  },
  {
   "cell_type": "code",
   "execution_count": null,
   "metadata": {
    "collapsed": false,
    "deletable": true,
    "editable": true
   },
   "outputs": [],
   "source": [
    "interestedLists = records[\"Interests\"].dropna()\n",
    "skilledLists = records[\"Skills\"].dropna()\n",
    "interested = pd.get_dummies(interestedLists.apply(pd.Series).stack()).sum(level=0)\n",
    "skilled = pd.get_dummies(skilledLists.apply(pd.Series).stack()).sum(level=0)\n"
   ]
  },
  {
   "cell_type": "code",
   "execution_count": null,
   "metadata": {
    "collapsed": false,
    "deletable": true,
    "editable": true
   },
   "outputs": [],
   "source": [
    "interested"
   ]
  },
  {
   "cell_type": "code",
   "execution_count": null,
   "metadata": {
    "collapsed": false,
    "deletable": true,
    "editable": true
   },
   "outputs": [],
   "source": [
    "skilled"
   ]
  },
  {
   "cell_type": "code",
   "execution_count": null,
   "metadata": {
    "collapsed": false,
    "deletable": true,
    "editable": true
   },
   "outputs": [],
   "source": [
    "learners_by_skill = {}\n",
    "for column in interested.columns:\n",
    "    learners_by_skill[column] = list(interested[interested[column] == 1].index)\n",
    "masters_by_skill = {}\n",
    "for column in skilled.columns:\n",
    "    masters_by_skill[column] = list(skilled[skilled[column] == 1].index)"
   ]
  },
  {
   "cell_type": "code",
   "execution_count": null,
   "metadata": {
    "collapsed": false,
    "deletable": true,
    "editable": true
   },
   "outputs": [],
   "source": [
    "skills_by_master = {}\n",
    "for index, row in skilled.iterrows():\n",
    "    skills_by_master[index] = list(skilled.transpose()[skilled.transpose()[index] == 1].index)\n",
    "skills_by_learner = {}\n",
    "for index, row in interested.iterrows():\n",
    "    skills_by_learner[index] = list(interested.transpose()[interested.transpose()[index] == 1].index)"
   ]
  },
  {
   "cell_type": "code",
   "execution_count": null,
   "metadata": {
    "collapsed": false,
    "deletable": true,
    "editable": true
   },
   "outputs": [],
   "source": [
    "allSkills = set(list(list(learners_by_skill.keys()) + list(masters_by_skill)))\n",
    "allPeople = set(list(list(skills_by_learner.keys()) + list(skills_by_master)))"
   ]
  },
  {
   "cell_type": "code",
   "execution_count": null,
   "metadata": {
    "collapsed": false,
    "deletable": true,
    "editable": true
   },
   "outputs": [],
   "source": [
    "allSkills, allPeople"
   ]
  },
  {
   "cell_type": "code",
   "execution_count": null,
   "metadata": {
    "collapsed": false,
    "deletable": true,
    "editable": true
   },
   "outputs": [],
   "source": [
    "import networkx as nx\n",
    "g = nx.DiGraph()\n",
    "for skill, masters in masters_by_skill.items():\n",
    "    for master in masters:\n",
    "        learners = learners_by_skill.get(skill, [])\n",
    "        for learner in learners:\n",
    "            if master != learner:\n",
    "                g.add_edge(\"T %s\" % master, \"L %s\" % learner)\n",
    "for skill, learners in learners_by_skill.items():\n",
    "    for learner in learners:\n",
    "        masters = masters_by_skill.get(skill, [])\n",
    "        for master in masters:\n",
    "            if master != learner:\n",
    "                g.add_edge(\"T %s\" % master, \"L %s\" % learner)"
   ]
  },
  {
   "cell_type": "code",
   "execution_count": null,
   "metadata": {
    "collapsed": false,
    "deletable": true,
    "editable": true
   },
   "outputs": [],
   "source": [
    "maxmatch = nx.algorithms.matching.maximal_matching(g.to_undirected())"
   ]
  },
  {
   "cell_type": "code",
   "execution_count": null,
   "metadata": {
    "collapsed": false,
    "deletable": true,
    "editable": true
   },
   "outputs": [],
   "source": [
    "maxmatch"
   ]
  },
  {
   "cell_type": "code",
   "execution_count": null,
   "metadata": {
    "collapsed": true,
    "deletable": true,
    "editable": true
   },
   "outputs": [],
   "source": [
    "def remove_prefix(text, prefix):\n",
    "    return text[text.startswith(prefix) and len(prefix):]"
   ]
  },
  {
   "cell_type": "code",
   "execution_count": null,
   "metadata": {
    "collapsed": false,
    "deletable": true,
    "editable": true
   },
   "outputs": [],
   "source": [
    "maxmatch = nx.algorithms.matching.maximal_matching(g.to_undirected())\n",
    "\n",
    "\n",
    "# Pretty-print output\n",
    "# TODO: return a result in JSON or CSV format\n",
    "\n",
    "paired_count = len(maxmatch)\n",
    "print(\"Pairs generated: %s/%s\" % (paired_count, len(allPeople)))\n",
    "matched = set()\n",
    "print(\"Pairing:\")\n",
    "for (a,b) in maxmatch:\n",
    "    if a.startswith(\"T\"):\n",
    "        (t, l) = (a, b)\n",
    "    else:\n",
    "        (t, l) = (b, a)\n",
    "    (tp, lp) = (remove_prefix(t, \"T \"), remove_prefix(l, \"L \"))\n",
    "    matched.add(tp)\n",
    "    matched.add(lp)\n",
    "    ts = set(skills_by_master.get(tp, []))\n",
    "    ls = set(skills_by_learner.get(lp, []))\n",
    "    common = ts.intersection(ls)\n",
    "    print(\"%s teaching %s about '%s'\" % (tp, lp,\"' or '\".join(list(common))))\n",
    "    at.create(\"Pairings\", {\n",
    "        \"Teacher\": tp,\n",
    "        \"Learner\": lp,\n",
    "        \"Skill\": str(list(common)[0]),\n",
    "        \"Paired On\": today\n",
    "    })\n",
    "if paired_count < len(allPeople):\n",
    "    print(\"People left out:\")\n",
    "    leftOut = allPeople.difference(matched)\n",
    "    print(leftOut)\n",
    "    for p in leftOut:\n",
    "        at.create(\"Pairings\", {\n",
    "            \"Teacher\": p,\n",
    "            \"Learner\": p,\n",
    "            \"Not Paired\": True,\n",
    "            \"Paired On\": today\n",
    "        })"
   ]
  },
  {
   "cell_type": "code",
   "execution_count": null,
   "metadata": {
    "collapsed": false,
    "deletable": true,
    "editable": true
   },
   "outputs": [],
   "source": [
    "maxmatch"
   ]
  },
  {
   "cell_type": "code",
   "execution_count": null,
   "metadata": {
    "collapsed": false,
    "deletable": true,
    "editable": true
   },
   "outputs": [],
   "source": [
    "at.get(\"Pairings\")"
   ]
  }
 ],
 "metadata": {
  "kernelspec": {
   "display_name": "Python 3",
   "language": "python",
   "name": "python3"
  },
  "language_info": {
   "codemirror_mode": {
    "name": "ipython",
    "version": 3
   },
   "file_extension": ".py",
   "mimetype": "text/x-python",
   "name": "python",
   "nbconvert_exporter": "python",
   "pygments_lexer": "ipython3",
   "version": "3.5.3"
  }
 },
 "nbformat": 4,
 "nbformat_minor": 2
}
